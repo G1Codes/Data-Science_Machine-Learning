{
 "cells": [
  {
   "cell_type": "markdown",
   "metadata": {},
   "source": [
    "# Soft SVM"
   ]
  },
  {
   "cell_type": "code",
   "execution_count": 1,
   "metadata": {},
   "outputs": [
    {
     "name": "stdout",
     "output_type": "stream",
     "text": [
      "Accuracy: 100.00%\n"
     ]
    }
   ],
   "source": [
    "# Import necessary libraries\n",
    "from sklearn import datasets\n",
    "from sklearn.model_selection import train_test_split\n",
    "from sklearn.svm import SVC\n",
    "from sklearn.metrics import accuracy_score\n",
    "\n",
    "# Load the Iris dataset\n",
    "iris = datasets.load_iris()\n",
    "X = iris.data\n",
    "y = iris.target\n",
    "\n",
    "# Only take two classes (binary classification for simplicity)\n",
    "X = X[y != 2]\n",
    "y = y[y != 2]\n",
    "\n",
    "# Split the dataset into training and testing sets\n",
    "X_train, X_test, y_train, y_test = train_test_split(X, y, test_size=0.3, random_state=42)\n",
    "\n",
    "# Initialize the SVM classifier with a linear kernel (soft margin)\n",
    "svm_model = SVC(kernel='linear', C=1)  # C is the regularization parameter\n",
    "\n",
    "# Train the model\n",
    "svm_model.fit(X_train, y_train)\n",
    "\n",
    "# Make predictions\n",
    "y_pred = svm_model.predict(X_test)\n",
    "\n",
    "# Evaluate the model\n",
    "accuracy = accuracy_score(y_test, y_pred)\n",
    "print(f\"Accuracy: {accuracy * 100:.2f}%\")\n"
   ]
  },
  {
   "cell_type": "markdown",
   "metadata": {},
   "source": [
    "# Support Vector Regression"
   ]
  },
  {
   "cell_type": "code",
   "execution_count": 93,
   "metadata": {},
   "outputs": [
    {
     "name": "stdout",
     "output_type": "stream",
     "text": [
      "Mean Squared Error: 0.1677921588994546\n",
      "R2 score:  0.792863100995516\n"
     ]
    }
   ],
   "source": [
    "from sklearn.svm import SVR\n",
    "from sklearn.model_selection import train_test_split\n",
    "from sklearn.metrics import mean_squared_error, r2_score\n",
    "import numpy as np\n",
    "\n",
    "# Example dataset\n",
    "X = np.sort(5 * np.random.rand(100, 1), axis=0)\n",
    "y = np.sin(X).ravel()\n",
    "\n",
    "# Add noise to the target\n",
    "y[::5] += 3 * (0.5 - np.random.rand(20))\n",
    "\n",
    "# Split the data\n",
    "X_train, X_test, y_train, y_test = train_test_split(X, y, test_size=0.2, random_state=42)\n",
    "\n",
    "# Create and train the SVR model\n",
    "svr = SVR(kernel='rbf', C=200, gamma=0.1, epsilon=0.01)\n",
    "svr.fit(X_train, y_train)\n",
    "\n",
    "# Make predictions\n",
    "y_pred = svr.predict(X_test)\n",
    "\n",
    "# Evaluate the model\n",
    "mse = mean_squared_error(y_test, y_pred)\n",
    "print(f\"Mean Squared Error: {mse}\")\n",
    "print(\"R2 score: \",r2_score(y_test, y_pred))"
   ]
  },
  {
   "cell_type": "code",
   "execution_count": 95,
   "metadata": {},
   "outputs": [
    {
     "name": "stdout",
     "output_type": "stream",
     "text": [
      "{'C': 50, 'epsilon': 0.1, 'gamma': 1}\n",
      "0.7873348359865278\n"
     ]
    }
   ],
   "source": [
    "from sklearn.model_selection import GridSearchCV\n",
    "from sklearn.svm import SVR\n",
    "from sklearn.model_selection import train_test_split\n",
    "from sklearn.metrics import mean_squared_error, r2_score\n",
    "import numpy as np\n",
    "\n",
    "\n",
    "# Example dataset\n",
    "X = np.sort(5 * np.random.rand(100, 1), axis=0)\n",
    "y = np.sin(X).ravel()\n",
    "# Add noise to the target\n",
    "y[::5] += 3 * (0.5 - np.random.rand(20))\n",
    "\n",
    "X_train, X_test, y_train, y_test = train_test_split(X, y, test_size=0.2, random_state=42)\n",
    "\n",
    "svr = SVR()\n",
    "\n",
    "\n",
    "parameters= {'C':[10,30,50,70,100,150,200,250,300], 'gamma':[0.1,0.01,1,1.1,1.5,2],'epsilon':[0.1,0.01,1,1.1,1.5,2]}\n",
    "\n",
    "GSS = GridSearchCV(svr, parameters, scoring='r2', cv=10)\n",
    "GSS.fit(X_train, y_train)\n",
    "\n",
    "print(GSS.best_params_)\n",
    "print(GSS.best_score_)"
   ]
  },
  {
   "cell_type": "markdown",
   "metadata": {},
   "source": [
    "# SVM Kernels"
   ]
  },
  {
   "cell_type": "code",
   "execution_count": 96,
   "metadata": {},
   "outputs": [
    {
     "name": "stdout",
     "output_type": "stream",
     "text": [
      "Linear Kernel Accuracy: 0.8666666666666667\n",
      "Polynomial Kernel Accuracy: 0.8333333333333334\n",
      "RBF Kernel Accuracy: 0.9666666666666667\n"
     ]
    }
   ],
   "source": [
    "from sklearn.svm import SVC\n",
    "from sklearn.datasets import make_moons\n",
    "from sklearn.model_selection import train_test_split\n",
    "from sklearn.metrics import accuracy_score\n",
    "import matplotlib.pyplot as plt\n",
    "\n",
    "# Generate non-linear data (moons dataset)\n",
    "X, y = make_moons(n_samples=100, noise=0.2, random_state=42)\n",
    "\n",
    "# Split the data into training and testing sets\n",
    "X_train, X_test, y_train, y_test = train_test_split(X, y, test_size=0.3, random_state=42)\n",
    "\n",
    "# Create SVM models with different kernels\n",
    "linear_svm = SVC(kernel='linear')\n",
    "poly_svm = SVC(kernel='poly', degree=3)\n",
    "rbf_svm = SVC(kernel='rbf', gamma=0.7)\n",
    "\n",
    "# Train the models\n",
    "linear_svm.fit(X_train, y_train)\n",
    "poly_svm.fit(X_train, y_train)\n",
    "rbf_svm.fit(X_train, y_train)\n",
    "\n",
    "# Make predictions\n",
    "y_pred_linear = linear_svm.predict(X_test)\n",
    "y_pred_poly = poly_svm.predict(X_test)\n",
    "y_pred_rbf = rbf_svm.predict(X_test)\n",
    "\n",
    "# Evaluate the models\n",
    "print(\"Linear Kernel Accuracy:\", accuracy_score(y_test, y_pred_linear))\n",
    "print(\"Polynomial Kernel Accuracy:\", accuracy_score(y_test, y_pred_poly))\n",
    "print(\"RBF Kernel Accuracy:\", accuracy_score(y_test, y_pred_rbf))"
   ]
  }
 ],
 "metadata": {
  "kernelspec": {
   "display_name": "Python 3",
   "language": "python",
   "name": "python3"
  },
  "language_info": {
   "codemirror_mode": {
    "name": "ipython",
    "version": 3
   },
   "file_extension": ".py",
   "mimetype": "text/x-python",
   "name": "python",
   "nbconvert_exporter": "python",
   "pygments_lexer": "ipython3",
   "version": "3.12.3"
  }
 },
 "nbformat": 4,
 "nbformat_minor": 4
}
